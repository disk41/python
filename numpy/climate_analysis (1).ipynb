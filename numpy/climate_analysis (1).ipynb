{
  "nbformat": 4,
  "nbformat_minor": 0,
  "metadata": {
    "colab": {
      "name": "climate_analysis.ipynb",
      "provenance": [],
      "toc_visible": true
    },
    "kernelspec": {
      "name": "python3",
      "display_name": "Python 3"
    },
    "language_info": {
      "name": "python"
    }
  },
  "cells": [
    {
      "cell_type": "markdown",
      "source": [
        ""
      ],
      "metadata": {
        "id": "hn9lClAtRdvx"
      }
    },
    {
      "cell_type": "code",
      "execution_count": null,
      "metadata": {
        "id": "aiLMt_xEuW7T"
      },
      "outputs": [],
      "source": [
        "import numpy as np"
      ]
    },
    {
      "cell_type": "markdown",
      "source": [
        "Given some climate data for a region\n",
        "\n",
        "*   Region _     Temp(C)  _  Rainfall(mm) _   Humidity(%)\n",
        "\n",
        "*   north _       40     _    96         _     96\n",
        "*   west          45     _     89        _       89\n",
        "*   east          39     _     84        _       82\n",
        "*   west          35     _     102        _      98\n",
        "\n",
        "\n",
        "\n",
        "\n",
        "\n",
        "\n"
      ],
      "metadata": {
        "id": "l5gvPKhEPIAQ"
      }
    },
    {
      "cell_type": "code",
      "source": [
        "east =[40,96,96]\n",
        "west =[45,89,89]\n",
        "north =[39,84,82]\n",
        "south=[35,102,98]"
      ],
      "metadata": {
        "id": "K0CJfBID2dlY"
      },
      "execution_count": null,
      "outputs": []
    },
    {
      "cell_type": "markdown",
      "source": [
        "The value for a weight w1 , w2, w3. Here an example set of values."
      ],
      "metadata": {
        "id": "5uSh0bRHSZOS"
      }
    },
    {
      "cell_type": "code",
      "source": [
        "w1,w2,w3 =0.4 ,0.7, 0.6"
      ],
      "metadata": {
        "id": "fGFhq5i2Hg9T"
      },
      "execution_count": null,
      "outputs": []
    },
    {
      "cell_type": "code",
      "source": [
        "weights =[w1, w2 ,w3] "
      ],
      "metadata": {
        "id": "_G_9JNyJ3qOE"
      },
      "execution_count": null,
      "outputs": []
    },
    {
      "cell_type": "code",
      "source": [
        "def crop_yield(region,weights):\n",
        "  result =0\n",
        "  for x, w in zip(region,weights):\n",
        "    result +=x*w\n",
        "  return result"
      ],
      "metadata": {
        "id": "3iZoCXPu3986"
      },
      "execution_count": null,
      "outputs": []
    },
    {
      "cell_type": "code",
      "source": [
        "crop_yield(east, weights)"
      ],
      "metadata": {
        "colab": {
          "base_uri": "https://localhost:8080/"
        },
        "id": "eUQ_466vIXXf",
        "outputId": "1f82b40a-bf33-4fd1-e3a8-a79b11a0a9f7"
      },
      "execution_count": null,
      "outputs": [
        {
          "output_type": "execute_result",
          "data": {
            "text/plain": [
              "56.8"
            ]
          },
          "metadata": {},
          "execution_count": 44
        }
      ]
    },
    {
      "cell_type": "code",
      "source": [
        "crop_yield(west, weights)"
      ],
      "metadata": {
        "colab": {
          "base_uri": "https://localhost:8080/"
        },
        "id": "eyGy084eIiJy",
        "outputId": "edd65126-0d69-44ce-daf9-10f3508f3e80"
      },
      "execution_count": null,
      "outputs": [
        {
          "output_type": "execute_result",
          "data": {
            "text/plain": [
              "76.7"
            ]
          },
          "metadata": {},
          "execution_count": 45
        }
      ]
    },
    {
      "cell_type": "code",
      "source": [
        "crop_yield(north, weights)"
      ],
      "metadata": {
        "colab": {
          "base_uri": "https://localhost:8080/"
        },
        "id": "1eHO89FMJT4X",
        "outputId": "34bc854b-8025-486e-be98-316ffca73faf"
      },
      "execution_count": null,
      "outputs": [
        {
          "output_type": "execute_result",
          "data": {
            "text/plain": [
              "57.699999999999996"
            ]
          },
          "metadata": {},
          "execution_count": 46
        }
      ]
    },
    {
      "cell_type": "code",
      "source": [
        "crop_yield(south, weights)"
      ],
      "metadata": {
        "colab": {
          "base_uri": "https://localhost:8080/"
        },
        "id": "Q5Fp2tLMJYvk",
        "outputId": "f06f7a8a-13c6-48e7-ca3d-2ff2f7c53dbd"
      },
      "execution_count": null,
      "outputs": [
        {
          "output_type": "execute_result",
          "data": {
            "text/plain": [
              "73.1"
            ]
          },
          "metadata": {},
          "execution_count": 48
        }
      ]
    },
    {
      "cell_type": "code",
      "source": [
        ""
      ],
      "metadata": {
        "id": "L9ZSS0RSKAkm"
      },
      "execution_count": null,
      "outputs": []
    }
  ]
}